{
 "cells": [
  {
   "cell_type": "markdown",
   "metadata": {},
   "source": [
    "## Parameters to Update"
   ]
  },
  {
   "cell_type": "code",
   "execution_count": 42,
   "metadata": {},
   "outputs": [
    {
     "name": "stdout",
     "output_type": "stream",
     "text": [
      "/home/cody/dspath/project/dSen2CR_DSP/dsen2-cr/UnpackDataset\n"
     ]
    }
   ],
   "source": [
    "#This is the folder that the data will be distracted to. It should be the same folder set as input_data_folder in the DSen2CR code.\n",
    "input_data_folder = '/home/cody/input_data_folder'"
   ]
  },
  {
   "cell_type": "markdown",
   "metadata": {},
   "source": [
    "## Get dataset from online"
   ]
  },
  {
   "cell_type": "code",
   "execution_count": 2,
   "metadata": {},
   "outputs": [
    {
     "name": "stdout",
     "output_type": "stream",
     "text": [
      "--2023-08-14 15:53:58--  https://dataserv.ub.tum.de/s/m1554803/download?path=%2F&files=ROIs1158_spring_s1.tar.gz\n",
      "Resolving dataserv.ub.tum.de (dataserv.ub.tum.de)... 138.246.224.34, 2001:4ca0:800::8af6:e022\n",
      "Connecting to dataserv.ub.tum.de (dataserv.ub.tum.de)|138.246.224.34|:443... connected.\n",
      "WARNING: cannot verify dataserv.ub.tum.de's certificate, issued by ‘CN=R3,O=Let's Encrypt,C=US’:\n",
      "  Unable to locally verify the issuer's authority.\n",
      "HTTP request sent, awaiting response... 200 OK\n",
      "Length: 13229071106 (12G) [application/x-gzip]\n",
      "Saving to: ‘ROIs1158_spring_s1.tar.gz’\n",
      "\n",
      "z                     0%[                    ]  45.40M   342KB/s    eta 10h 50m^C\n"
     ]
    }
   ],
   "source": [
    "!wget --no-check-certificate -O ROIs1158_spring_s1.tar.gz \"https://dataserv.ub.tum.de/s/m1554803/download?path=%2F&files=ROIs1158_spring_s1.tar.gz\" "
   ]
  },
  {
   "cell_type": "code",
   "execution_count": 32,
   "metadata": {},
   "outputs": [
    {
     "name": "stdout",
     "output_type": "stream",
     "text": [
      "--2023-08-14 23:00:35--  https://dataserv.ub.tum.de/s/m1554803/download?path=%2F&files=ROIs1158_spring_s2_cloudy.tar.gz\n",
      "Resolving dataserv.ub.tum.de (dataserv.ub.tum.de)... 2001:4ca0:800::8af6:e022, 138.246.224.34\n",
      "Connecting to dataserv.ub.tum.de (dataserv.ub.tum.de)|2001:4ca0:800::8af6:e022|:443... connected.\n",
      "WARNING: cannot verify dataserv.ub.tum.de's certificate, issued by ‘CN=R3,O=Let's Encrypt,C=US’:\n",
      "  Unable to locally verify the issuer's authority.\n",
      "HTTP request sent, awaiting response... 200 OK\n",
      "Length: 21910216767 (20G) [application/x-gzip]\n",
      "Saving to: ‘ROIs1158_spring_s2_cloudy.tar.gz’\n",
      "\n",
      "z                     1%[                    ] 217.94M  8.11MB/s    eta 48m 7s ^C\n"
     ]
    }
   ],
   "source": [
    "!wget --no-check-certificate -O ROIs1158_spring_s2_cloudy.tar.gz \"https://dataserv.ub.tum.de/s/m1554803/download?path=%2F&files=ROIs1158_spring_s2_cloudy.tar.gz\" "
   ]
  },
  {
   "cell_type": "code",
   "execution_count": 30,
   "metadata": {},
   "outputs": [
    {
     "name": "stdout",
     "output_type": "stream",
     "text": [
      "--2023-08-14 22:59:00--  https://dataserv.ub.tum.de/s/m1554803/download?path=%2F&files=ROIs1158_spring_s2.tar.gz\n",
      "Resolving dataserv.ub.tum.de (dataserv.ub.tum.de)... 2001:4ca0:800::8af6:e022, 138.246.224.34\n",
      "Connecting to dataserv.ub.tum.de (dataserv.ub.tum.de)|2001:4ca0:800::8af6:e022|:443... connected.\n",
      "WARNING: cannot verify dataserv.ub.tum.de's certificate, issued by ‘CN=R3,O=Let's Encrypt,C=US’:\n",
      "  Unable to locally verify the issuer's authority.\n",
      "HTTP request sent, awaiting response... 200 OK\n",
      "Length: 34953924853 (33G) [application/x-gzip]\n",
      "Saving to: ‘ROIs1158_spring_s2.tar.gz’\n",
      "\n",
      "ROIs1158_spring_s2.   1%[                    ] 411.55M  8.09MB/s    eta 76m 32s^C\n"
     ]
    }
   ],
   "source": [
    "!wget --no-check-certificate -O ROIs1158_spring_s2.tar.gz \"https://dataserv.ub.tum.de/s/m1554803/download?path=%2F&files=ROIs1158_spring_s2.tar.gz\" "
   ]
  },
  {
   "cell_type": "code",
   "execution_count": null,
   "metadata": {},
   "outputs": [],
   "source": [
    "!wget --no-check-certificate -O ROIs1868_summer_s1.tar.gz \"https://dataserv.ub.tum.de/s/m1554803/download?path=%2F&files=ROIs1868_summer_s1.tar.gz\" "
   ]
  },
  {
   "cell_type": "code",
   "execution_count": null,
   "metadata": {},
   "outputs": [],
   "source": [
    "!wget --no-check-certificate -O ROIs1868_summer_s2_cloudy.tar.gz \"https://dataserv.ub.tum.de/s/m1554803/download?path=%2F&files=ROIs1868_summer_s2_cloudy.tar.gz\" "
   ]
  },
  {
   "cell_type": "code",
   "execution_count": null,
   "metadata": {},
   "outputs": [],
   "source": [
    "!wget --no-check-certificate -O ROIs1868_summer_s2.tar.gz \"https://dataserv.ub.tum.de/s/m1554803/download?path=%2F&files=ROIs1868_summer_s2.tar.gz\" "
   ]
  },
  {
   "cell_type": "code",
   "execution_count": null,
   "metadata": {},
   "outputs": [],
   "source": [
    "!wget --no-check-certificate -O ROIs1970_fall_s1.tar.gz \"https://dataserv.ub.tum.de/s/m1554803/download?path=%2F&files=ROIs1970_fall_s1.tar.gz\" "
   ]
  },
  {
   "cell_type": "code",
   "execution_count": null,
   "metadata": {},
   "outputs": [],
   "source": [
    "!wget --no-check-certificate -O ROIs1970_fall_s2_cloudy.tar.gz \"https://dataserv.ub.tum.de/s/m1554803/download?path=%2F&files=ROIs1970_fall_s2_cloudy.tar.gz\" "
   ]
  },
  {
   "cell_type": "code",
   "execution_count": null,
   "metadata": {},
   "outputs": [],
   "source": [
    "!wget --no-check-certificate -O ROIs1970_fall_s2.tar.gz \"https://dataserv.ub.tum.de/s/m1554803/download?path=%2F&files=ROIs1970_fall_s2.tar.gz\" "
   ]
  },
  {
   "cell_type": "code",
   "execution_count": null,
   "metadata": {},
   "outputs": [],
   "source": [
    "!wget --no-check-certificate -O ROIs2017_winter_s1.tar.gz \"https://dataserv.ub.tum.de/s/m1554803/download?path=%2F&files=ROIs2017_winter_s1.tar.gz\" "
   ]
  },
  {
   "cell_type": "code",
   "execution_count": null,
   "metadata": {},
   "outputs": [],
   "source": [
    "!wget --no-check-certificate -O ROIs2017_winter_s2_cloudy.tar \"https://dataserv.ub.tum.de/s/m1554803/download?path=%2F&files=ROIs2017_winter_s2_cloudy.tar.gz\" "
   ]
  },
  {
   "cell_type": "code",
   "execution_count": null,
   "metadata": {},
   "outputs": [],
   "source": [
    "!wget --no-check-certificate -O ROIs2017_winter_s2.tar \"https://dataserv.ub.tum.de/s/m1554803/download?path=%2F&files=ROIs2017_winter_s2.tar\" "
   ]
  },
  {
   "cell_type": "markdown",
   "metadata": {},
   "source": [
    "## Decompress the dataset into current folder\n",
    "Add v to the options to see verbose output from the tar command ( !tar xzvf instead of !tar xzf)"
   ]
  },
  {
   "cell_type": "code",
   "execution_count": 14,
   "metadata": {},
   "outputs": [
    {
     "name": "stdout",
     "output_type": "stream",
     "text": [
      "\n",
      "gzip: stdin: unexpected end of file\n",
      "tar: Unexpected EOF in archive\n",
      "tar: Unexpected EOF in archive\n",
      "tar: Error is not recoverable: exiting now\n"
     ]
    }
   ],
   "source": [
    "!tar -xzf ROIs1158_spring_s1.tar.gz"
   ]
  },
  {
   "cell_type": "code",
   "execution_count": 33,
   "metadata": {},
   "outputs": [
    {
     "name": "stdout",
     "output_type": "stream",
     "text": [
      "\n",
      "gzip: stdin: unexpected end of file\n",
      "tar: Unexpected EOF in archive\n",
      "tar: Unexpected EOF in archive\n",
      "tar: Error is not recoverable: exiting now\n"
     ]
    }
   ],
   "source": [
    "!tar -xzf ROIs1158_spring_s2_cloudy.tar.gz"
   ]
  },
  {
   "cell_type": "code",
   "execution_count": 34,
   "metadata": {},
   "outputs": [
    {
     "name": "stdout",
     "output_type": "stream",
     "text": [
      "\n",
      "gzip: stdin: unexpected end of file\n",
      "tar: Unexpected EOF in archive\n",
      "tar: Unexpected EOF in archive\n",
      "tar: Error is not recoverable: exiting now\n"
     ]
    }
   ],
   "source": [
    "!tar -xzf ROIs1158_spring_s2.tar.gz"
   ]
  },
  {
   "cell_type": "code",
   "execution_count": null,
   "metadata": {},
   "outputs": [],
   "source": [
    "!tar -xzf ROIs1868_summer_s1.tar.gz"
   ]
  },
  {
   "cell_type": "code",
   "execution_count": null,
   "metadata": {},
   "outputs": [],
   "source": [
    "!tar -xzf ROIs1868_summer_s2_cloudy.tar.gz"
   ]
  },
  {
   "cell_type": "code",
   "execution_count": null,
   "metadata": {},
   "outputs": [],
   "source": [
    "!tar -xzf ROIs1868_summer_s2.tar.gz"
   ]
  },
  {
   "cell_type": "code",
   "execution_count": null,
   "metadata": {},
   "outputs": [],
   "source": [
    "!tar -xzf ROIs1970_fall_s1.tar.gz"
   ]
  },
  {
   "cell_type": "code",
   "execution_count": null,
   "metadata": {},
   "outputs": [],
   "source": [
    "!tar -xzf ROIs1970_fall_s2_cloudy.tar.gz"
   ]
  },
  {
   "cell_type": "code",
   "execution_count": null,
   "metadata": {},
   "outputs": [],
   "source": [
    "!tar -xzf ROIs1970_fall_s2.tar.gz"
   ]
  },
  {
   "cell_type": "code",
   "execution_count": null,
   "metadata": {},
   "outputs": [],
   "source": [
    "!tar -xzf ROIs2017_winter_s1.tar.gz"
   ]
  },
  {
   "cell_type": "code",
   "execution_count": null,
   "metadata": {},
   "outputs": [],
   "source": [
    "!tar -xzf ROIs2017_winter_s2_cloudy.tar"
   ]
  },
  {
   "cell_type": "code",
   "execution_count": null,
   "metadata": {},
   "outputs": [],
   "source": [
    "!tar -xzf ROIs2017_winter_s2.tar"
   ]
  },
  {
   "cell_type": "markdown",
   "metadata": {},
   "source": [
    "## Create new folders to move data to"
   ]
  },
  {
   "cell_type": "code",
   "execution_count": 12,
   "metadata": {},
   "outputs": [],
   "source": [
    "s1_folder = os.path.join(input_data_folder, \"s1\")\n",
    "!mkdir {s1_folder}\n",
    "s2_cloudy_folder = os.path.join(input_data_folder, \"s2_cloudy\")\n",
    "!mkdir {s2_cloudy_folder}\n",
    "s2_cloudFree_folder = os.path.join(input_data_folder, \"s2_cloudFree\")\n",
    "!mkdir {s2_cloudFree_folder}"
   ]
  },
  {
   "cell_type": "code",
   "execution_count": 28,
   "metadata": {},
   "outputs": [
    {
     "ename": "FileNotFoundError",
     "evalue": "[Errno 2] No such file or directory: 'ROIs1868_summer_s1'",
     "output_type": "error",
     "traceback": [
      "\u001b[0;31m---------------------------------------------------------------------------\u001b[0m",
      "\u001b[0;31mFileNotFoundError\u001b[0m                         Traceback (most recent call last)",
      "\u001b[0;32m/tmp/ipykernel_225116/21104533.py\u001b[0m in \u001b[0;36m<module>\u001b[0;34m\u001b[0m\n\u001b[1;32m      7\u001b[0m \u001b[0;31m#unpack all files within the folders in the s1_data list\u001b[0m\u001b[0;34m\u001b[0m\u001b[0;34m\u001b[0m\u001b[0;34m\u001b[0m\u001b[0m\n\u001b[1;32m      8\u001b[0m \u001b[0;32mfor\u001b[0m \u001b[0mseason_sentinel_folder\u001b[0m \u001b[0;32min\u001b[0m \u001b[0ms1_data\u001b[0m\u001b[0;34m:\u001b[0m\u001b[0;34m\u001b[0m\u001b[0;34m\u001b[0m\u001b[0m\n\u001b[0;32m----> 9\u001b[0;31m     \u001b[0;32mfor\u001b[0m \u001b[0msentinel_ROI_folder\u001b[0m \u001b[0;32min\u001b[0m \u001b[0mos\u001b[0m\u001b[0;34m.\u001b[0m\u001b[0mlistdir\u001b[0m\u001b[0;34m(\u001b[0m\u001b[0mseason_sentinel_folder\u001b[0m\u001b[0;34m)\u001b[0m\u001b[0;34m:\u001b[0m\u001b[0;34m\u001b[0m\u001b[0;34m\u001b[0m\u001b[0m\n\u001b[0m\u001b[1;32m     10\u001b[0m         \u001b[0;32mfor\u001b[0m \u001b[0mfilename\u001b[0m \u001b[0;32min\u001b[0m \u001b[0mos\u001b[0m\u001b[0;34m.\u001b[0m\u001b[0mlistdir\u001b[0m\u001b[0;34m(\u001b[0m\u001b[0mos\u001b[0m\u001b[0;34m.\u001b[0m\u001b[0mpath\u001b[0m\u001b[0;34m.\u001b[0m\u001b[0mjoin\u001b[0m\u001b[0;34m(\u001b[0m\u001b[0mseason_sentinel_folder\u001b[0m\u001b[0;34m,\u001b[0m\u001b[0msentinel_ROI_folder\u001b[0m\u001b[0;34m)\u001b[0m\u001b[0;34m)\u001b[0m\u001b[0;34m:\u001b[0m\u001b[0;34m\u001b[0m\u001b[0;34m\u001b[0m\u001b[0m\n\u001b[1;32m     11\u001b[0m             \u001b[0;31m#extract information from filename\u001b[0m\u001b[0;34m\u001b[0m\u001b[0;34m\u001b[0m\u001b[0;34m\u001b[0m\u001b[0m\n",
      "\u001b[0;31mFileNotFoundError\u001b[0m: [Errno 2] No such file or directory: 'ROIs1868_summer_s1'"
     ]
    }
   ],
   "source": [
    "import os\n",
    "import shutil\n",
    "x = 0\n",
    "\n",
    "s1_data = [\"ROIs1158_spring_s1\", \"ROIs1868_summer_s1\", \"ROIs1970_fall_s1\", \"ROIs2017_winter_s1\"]\n",
    "\n",
    "#unpack all files within the folders in the s1_data list\n",
    "for season_sentinel_folder in s1_data:\n",
    "    for sentinel_ROI_folder in os.listdir(season_sentinel_folder):\n",
    "        for filename in os.listdir(os.path.join(season_sentinel_folder,sentinel_ROI_folder)):\n",
    "            #extract information from filename\n",
    "            season_id, season, sentinel, ROI, patch = filename.split(\"_\")\n",
    "            patch = patch[1:]\n",
    "            #create new filename\n",
    "            new_filename = f\"{season_id}_{season}_{ROI}_{patch}\"\n",
    "            #rename from old filename to new filename, and put into correct folder\n",
    "            to_rename = os.path.join(season_sentinel_folder, sentinel_ROI_folder, filename)\n",
    "            new_name =  os.path.join(input_data_folder, \"s1\",new_filename) #CHECK THIS\n",
    "            shutil.move(to_rename, new_name)\n"
   ]
  },
  {
   "cell_type": "code",
   "execution_count": 37,
   "metadata": {},
   "outputs": [
    {
     "ename": "FileNotFoundError",
     "evalue": "[Errno 2] No such file or directory: 'ROIs1868_summer_s2'",
     "output_type": "error",
     "traceback": [
      "\u001b[0;31m---------------------------------------------------------------------------\u001b[0m",
      "\u001b[0;31mFileNotFoundError\u001b[0m                         Traceback (most recent call last)",
      "\u001b[0;32m/tmp/ipykernel_225116/4105987999.py\u001b[0m in \u001b[0;36m<module>\u001b[0;34m\u001b[0m\n\u001b[1;32m      6\u001b[0m \u001b[0;31m#unpack all files within the folders in the s2_data list\u001b[0m\u001b[0;34m\u001b[0m\u001b[0;34m\u001b[0m\u001b[0;34m\u001b[0m\u001b[0m\n\u001b[1;32m      7\u001b[0m \u001b[0;32mfor\u001b[0m \u001b[0mseason_sentinel_folder\u001b[0m \u001b[0;32min\u001b[0m \u001b[0ms2_data\u001b[0m\u001b[0;34m:\u001b[0m\u001b[0;34m\u001b[0m\u001b[0;34m\u001b[0m\u001b[0m\n\u001b[0;32m----> 8\u001b[0;31m     \u001b[0;32mfor\u001b[0m \u001b[0msentinel_ROI_folder\u001b[0m \u001b[0;32min\u001b[0m \u001b[0mos\u001b[0m\u001b[0;34m.\u001b[0m\u001b[0mlistdir\u001b[0m\u001b[0;34m(\u001b[0m\u001b[0mseason_sentinel_folder\u001b[0m\u001b[0;34m)\u001b[0m\u001b[0;34m:\u001b[0m\u001b[0;34m\u001b[0m\u001b[0;34m\u001b[0m\u001b[0m\n\u001b[0m\u001b[1;32m      9\u001b[0m         \u001b[0;32mfor\u001b[0m \u001b[0mfilename\u001b[0m \u001b[0;32min\u001b[0m \u001b[0mos\u001b[0m\u001b[0;34m.\u001b[0m\u001b[0mlistdir\u001b[0m\u001b[0;34m(\u001b[0m\u001b[0mos\u001b[0m\u001b[0;34m.\u001b[0m\u001b[0mpath\u001b[0m\u001b[0;34m.\u001b[0m\u001b[0mjoin\u001b[0m\u001b[0;34m(\u001b[0m\u001b[0mseason_sentinel_folder\u001b[0m\u001b[0;34m,\u001b[0m \u001b[0msentinel_ROI_folder\u001b[0m\u001b[0;34m)\u001b[0m\u001b[0;34m)\u001b[0m\u001b[0;34m:\u001b[0m\u001b[0;34m\u001b[0m\u001b[0;34m\u001b[0m\u001b[0m\n\u001b[1;32m     10\u001b[0m             \u001b[0;31m#extract information from filename\u001b[0m\u001b[0;34m\u001b[0m\u001b[0;34m\u001b[0m\u001b[0;34m\u001b[0m\u001b[0m\n",
      "\u001b[0;31mFileNotFoundError\u001b[0m: [Errno 2] No such file or directory: 'ROIs1868_summer_s2'"
     ]
    }
   ],
   "source": [
    "s2_data = [\"ROIs1158_spring_s2\", \"ROIs1868_summer_s2\", \"ROIs1970_fall_s2\", \"ROIs2017_winter_s2\"]\n",
    "\n",
    "#unpack all files within the folders in the s2_data list\n",
    "for season_sentinel_folder in s2_data:\n",
    "    for sentinel_ROI_folder in os.listdir(season_sentinel_folder):\n",
    "        for filename in os.listdir(os.path.join(season_sentinel_folder, sentinel_ROI_folder)):\n",
    "            #extract information from filename\n",
    "            season_id, season, sentinel, ROI, patch = filename.split(\"_\")\n",
    "            patch = patch[1:]\n",
    "            #create new filename\n",
    "            new_filename = f\"{season_id}_{season}_{ROI}_{patch}\"\n",
    "            #rename from old filename to new filename, and put into correct folder\n",
    "            to_rename = os.path.join(season_sentinel_folder,sentinel_ROI_folder, filename)\n",
    "            new_name =  os.path.join(input_data_folder, \"s2_cloudFree\", new_filename) #CHECK THIS\n",
    "            shutil.move(to_rename, new_name)"
   ]
  },
  {
   "cell_type": "code",
   "execution_count": 41,
   "metadata": {},
   "outputs": [
    {
     "ename": "AttributeError",
     "evalue": "module 'posixpath' has no attribute 'dir'",
     "output_type": "error",
     "traceback": [
      "\u001b[0;31m---------------------------------------------------------------------------\u001b[0m",
      "\u001b[0;31mAttributeError\u001b[0m                            Traceback (most recent call last)",
      "\u001b[0;32m/tmp/ipykernel_225116/47923761.py\u001b[0m in \u001b[0;36m<module>\u001b[0;34m\u001b[0m\n\u001b[1;32m     12\u001b[0m             \u001b[0;31m#rename from old filename to new filename, and put into correct folder\u001b[0m\u001b[0;34m\u001b[0m\u001b[0;34m\u001b[0m\u001b[0;34m\u001b[0m\u001b[0m\n\u001b[1;32m     13\u001b[0m             \u001b[0mto_rename\u001b[0m \u001b[0;34m=\u001b[0m \u001b[0mos\u001b[0m\u001b[0;34m.\u001b[0m\u001b[0mpath\u001b[0m\u001b[0;34m.\u001b[0m\u001b[0mjoin\u001b[0m\u001b[0;34m(\u001b[0m\u001b[0mseason_sentinel_folder\u001b[0m\u001b[0;34m,\u001b[0m \u001b[0msentinel_ROI_folder\u001b[0m\u001b[0;34m,\u001b[0m \u001b[0mfilename\u001b[0m\u001b[0;34m)\u001b[0m\u001b[0;34m\u001b[0m\u001b[0;34m\u001b[0m\u001b[0m\n\u001b[0;32m---> 14\u001b[0;31m             \u001b[0mnew_name\u001b[0m \u001b[0;34m=\u001b[0m  \u001b[0mos\u001b[0m\u001b[0;34m.\u001b[0m\u001b[0mpath\u001b[0m\u001b[0;34m.\u001b[0m\u001b[0mdir\u001b[0m\u001b[0;34m(\u001b[0m\u001b[0minput_data_folder\u001b[0m\u001b[0;34m,\u001b[0m \u001b[0;34m\"s2_cloudy\"\u001b[0m\u001b[0;34m,\u001b[0m \u001b[0mnew_filename\u001b[0m\u001b[0;34m)\u001b[0m \u001b[0;31m#CHECK THIS\u001b[0m\u001b[0;34m\u001b[0m\u001b[0;34m\u001b[0m\u001b[0m\n\u001b[0m\u001b[1;32m     15\u001b[0m             \u001b[0mshutil\u001b[0m\u001b[0;34m.\u001b[0m\u001b[0mmove\u001b[0m\u001b[0;34m(\u001b[0m\u001b[0mto_rename\u001b[0m\u001b[0;34m,\u001b[0m \u001b[0mnew_name\u001b[0m\u001b[0;34m)\u001b[0m\u001b[0;34m\u001b[0m\u001b[0;34m\u001b[0m\u001b[0m\n",
      "\u001b[0;31mAttributeError\u001b[0m: module 'posixpath' has no attribute 'dir'"
     ]
    }
   ],
   "source": [
    "s2_cloudy_data = [\"ROIs1158_spring_s2_cloudy\", \"ROIs1868_summer_s2_cloudy\", \"ROIs1970_fall_s2_cloudy\", \"ROIs2017_winter_s2_cloudy\"]\n",
    "\n",
    "#unpack all files within the folders in the s2_cloudy_data list\n",
    "for season_sentinel_folder in s2_cloudy_data:\n",
    "    for sentinel_ROI_folder in os.listdir(season_sentinel_folder):\n",
    "        for filename in os.listdir(os.path.join(season_sentinel_folder, sentinel_ROI_folder)):\n",
    "            #extract information from filename\n",
    "            season_id, season, sentinel1, sentinel2, ROI, patch = filename.split(\"_\")\n",
    "            patch = patch[1:]\n",
    "            #create new filename\n",
    "            new_filename = f\"{season_id}_{season}_{ROI}_{patch}\"\n",
    "            #rename from old filename to new filename, and put into correct folder\n",
    "            to_rename = os.path.join(season_sentinel_folder, sentinel_ROI_folder, filename)\n",
    "            new_name =  os.path.dir(input_data_folder, \"s2_cloudy\", new_filename) #CHECK THIS\n",
    "            shutil.move(to_rename, new_name)"
   ]
  },
  {
   "cell_type": "code",
   "execution_count": null,
   "metadata": {},
   "outputs": [],
   "source": []
  }
 ],
 "metadata": {
  "interpreter": {
   "hash": "916dbcbb3f70747c44a77c7bcd40155683ae19c65e1c03b4aa3499c5328201f1"
  },
  "kernelspec": {
   "display_name": "dsen2cr_kernel1",
   "language": "python",
   "name": "dsen2cr_kernel1"
  },
  "language_info": {
   "codemirror_mode": {
    "name": "ipython",
    "version": 3
   },
   "file_extension": ".py",
   "mimetype": "text/x-python",
   "name": "python",
   "nbconvert_exporter": "python",
   "pygments_lexer": "ipython3",
   "version": "3.7.12"
  }
 },
 "nbformat": 4,
 "nbformat_minor": 4
}
